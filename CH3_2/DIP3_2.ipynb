{
 "cells": [
  {
   "cell_type": "code",
   "execution_count": 215,
   "metadata": {},
   "outputs": [
    {
     "data": {
      "text/plain": [
       "True"
      ]
     },
     "execution_count": 215,
     "metadata": {},
     "output_type": "execute_result"
    }
   ],
   "source": [
    "import cv2\n",
    "import numpy as np\n",
    "import matplotlib.pyplot as plt\n",
    "import math\n",
    "\n",
    "def mean(pdf):\n",
    "    m = 0\n",
    "    for i in range(len(pdf)):\n",
    "        m = m + i*pdf[i]\n",
    "    return m\n",
    "\n",
    "def var(pdf,mean):\n",
    "    delta = 0\n",
    "    for i in range(len(pdf)):\n",
    "        if pdf[i] != 0:\n",
    "            delta = delta + (pow((i-mean),2)*pdf[i])\n",
    "    return delta\n",
    "\n",
    "def hist(img,dim,k0,k1,k2,k3,e):\n",
    "    assert dim%2 != 0\n",
    "    width = img.shape[1]\n",
    "    height = img.shape[0]\n",
    "    img_pdf = np.zeros([256])\n",
    "    img_flat = img.flatten()\n",
    "    for i in img_flat:\n",
    "        img_pdf[i] += 1\n",
    "    img_pdf = img_pdf/len(img_flat)\n",
    "    img_mean = mean(img_pdf)\n",
    "    img_var = var(img_pdf,img_mean)\n",
    "    img_sd = math.sqrt(img_var)\n",
    "    local = dim*dim\n",
    "    local_mean = 0\n",
    "    local_var = 0\n",
    "    local_sd = 0\n",
    "    for i in range(dim//2,height-dim//2):\n",
    "        for j in range(dim//2,width-dim//2):\n",
    "            local_pdf = np.zeros([256])\n",
    "            for p in range(j-dim//2,j+dim//2+1):\n",
    "                for q in range(i-dim//2,i+dim//2+1):\n",
    "                    local_pdf[img[q,p]] += 1.0/local\n",
    "            local_mean = mean(local_pdf)\n",
    "            local_var = var(local_pdf,local_mean)\n",
    "            local_sd = math.sqrt(local_var)\n",
    "            if local_mean>=img_mean*k0 and local_mean<=img_mean*k1 and local_sd<=k3*img_sd and local_sd>=k2*img_sd:\n",
    "                img[i,j] = img[i,j]*e\n",
    "    return img\n",
    "\n",
    "img1 = cv2.imread('hidden object.jpg',cv2.IMREAD_GRAYSCALE)\n",
    "img2 = hist(img1,3,0,0.4,0,0.4,30)\n",
    "cv2.imwrite('hsm.jpg',img2)"
   ]
  },
  {
   "cell_type": "code",
   "execution_count": 109,
   "metadata": {},
   "outputs": [],
   "source": [
    "def mean(pdf):\n",
    "    m = 0\n",
    "    for i in range(len(pdf)):\n",
    "        m = m + i*pdf[i]\n",
    "    return m\n",
    "\n",
    "def var(pdf,mean):\n",
    "    delta = 0\n",
    "    for i in range(len(pdf)):\n",
    "        if pdf[i] != 0:\n",
    "            delta = delta + (pow((i-mean),2)*pdf[i])\n",
    "    return delta\n",
    "\n",
    "def hist(img,dim,k0,k1,k2,k3,e):\n",
    "    assert dim%2 != 0\n",
    "    width = img.shape[0]\n",
    "    height = img.shape[1]\n",
    "    img_pdf = np.zeros([256])\n",
    "    img_flat = img.flatten()\n",
    "    for i in img_flat:\n",
    "        img_pdf[i] += 1\n",
    "    img_pdf = img_pdf/len(img_flat)\n",
    "    img_mean = mean(img_pdf)\n",
    "    img_var = var(img_pdf,img_mean)\n",
    "    img_sd = math.sqrt(img_var)\n",
    "    local = dim*dim\n",
    "    local_mean = 0\n",
    "    local_var = 0\n",
    "    local_sd = 0\n",
    "    for i in range(dim//2,height-dim//2-1):\n",
    "        for j in range(dim//2,width-dim//2):\n",
    "            local_pdf = np.zeros([256])\n",
    "            for p in range(j-dim//2,j+dim//2+1):\n",
    "                for q in range(i-dim//2,i+dim//2+1):\n",
    "                    local_pdf[img[p,q]] += 1.0/local\n",
    "            local_mean = mean(local_pdf)\n",
    "            local_var = var(local_pdf,local_mean)\n",
    "            local_sd = math.sqrt(local_var)\n",
    "            if local_mean>=img_mean*k0 and local_mean<=img_mean*k1 and local_sd<=k3*img_sd and local_sd>=k2*img_sd:\n",
    "                img[j,i] = img[j,i]*e\n",
    "    return img\n",
    "                \n",
    "            "
   ]
  },
  {
   "cell_type": "code",
   "execution_count": 150,
   "metadata": {},
   "outputs": [],
   "source": [
    "def hist2(img,dim,k0,k1,k2,k3,e):\n",
    "    assert dim%2 != 0\n",
    "#     img_enhance = np.zeros_like(img)\n",
    "    width = img.shape[1]\n",
    "    height = img.shape[0]\n",
    "    img_pdf = np.zeros([256])\n",
    "    img_flat = img.flatten()\n",
    "    for i in img_flat:\n",
    "        img_pdf[i] += 1\n",
    "    img_pdf = img_pdf/len(img_flat)\n",
    "    img_mean = mean(img_pdf)\n",
    "    img_var = var(img_pdf,img_mean)\n",
    "    img_sd = math.sqrt(img_var)\n",
    "    local = dim*dim\n",
    "    local_mean = 0\n",
    "    local_var = 0\n",
    "    local_sd = 0\n",
    "    for i in range(dim//2,height-dim//2):\n",
    "        for j in range(dim//2,width-dim//2):\n",
    "            local_pdf = np.zeros([256])\n",
    "            for p in range(j-dim//2,j+dim//2+1):\n",
    "                for q in range(i-dim//2,i+dim//2+1):\n",
    "                    local_pdf[img[q,p]] += 1.0/local\n",
    "            local_mean = mean(local_pdf)\n",
    "            local_var = var(local_pdf,local_mean)\n",
    "            local_sd = math.sqrt(local_var)\n",
    "            if local_mean>=img_mean*k0 and local_mean<=img_mean*k1 and local_sd<=k3*img_sd and local_sd>=k2*img_sd:\n",
    "                img[i,j] = img[i,j]*e\n",
    "    return img\n",
    "                "
   ]
  },
  {
   "cell_type": "code",
   "execution_count": 140,
   "metadata": {},
   "outputs": [],
   "source": [
    "img = cv2.imread('hidden object.jpg',cv2.IMREAD_GRAYSCALE)\n",
    "width = img.shape[0]\n",
    "height = img.shape[1]\n",
    "img_pdf = np.zeros([256])\n",
    "img_flat = img.flatten()\n",
    "for i in img_flat:\n",
    "    img_pdf[i] += 1\n",
    "img_pdf = img_pdf/len(img_flat)\n",
    "img_mean = mean(img_pdf)\n",
    "img_var = var(img_pdf,img_mean)\n",
    "img_sd = math.sqrt(img_var)"
   ]
  },
  {
   "cell_type": "code",
   "execution_count": 206,
   "metadata": {},
   "outputs": [
    {
     "data": {
      "image/png": "[encoded data removed]",
      "text/plain": [
       "<Figure size 432x288 with 1 Axes>"
      ]
     },
     "metadata": {
      "needs_background": "light"
     },
     "output_type": "display_data"
    }
   ],
   "source": [
    "import cv2\n",
    "import numpy as np\n",
    "import matplotlib.pyplot as plt\n",
    "\n",
    "img = cv2.imread('hidden object.jpg',cv2.IMREAD_GRAYSCALE)\n",
    "img_flat = img.flatten()\n",
    "img_eq = np.zeros([665,652])\n",
    "hist_eqa = np.zeros([256])\n",
    "mn = len(img_flat)\n",
    "\n",
    "for i in img_flat:\n",
    "    hist_eqa[i] += 1/mn\n",
    "# hist_eqa = hist_eqa/len(img_flat)\n",
    "for i in range(1,len(hist_eqa)):\n",
    "    hist_eqa[i] = hist_eqa[i-1] + hist_eqa[i]\n",
    "hist_eqa = np.around(255*hist_eqa)\n",
    "\n",
    "for i in range(img.shape[0]):\n",
    "    for j in range(img.shape[1]):\n",
    "        img_eq[i,j] = hist_eqa[img[i,j]]\n",
    "\n",
    "cv2.imwrite('eqa_hidden.jpg',img_eq)\n",
    "plt.hist(img_eq.flatten(),256,[0,256],density=True)\n",
    "plt.title('eqa_hist_hidden')\n",
    "plt.savefig('eqa_hist_hidden.jpg')\n",
    "plt.show()"
   ]
  },
  {
   "cell_type": "code",
   "execution_count": 209,
   "metadata": {},
   "outputs": [
    {
     "data": {
      "text/plain": [
       "True"
      ]
     },
     "execution_count": 209,
     "metadata": {},
     "output_type": "execute_result"
    }
   ],
   "source": [
    "import cv2\n",
    "import numpy as np\n",
    "import matplotlib.pyplot as plt\n",
    "\n",
    "gray_img = cv2.imread('hidden object.jpg',cv2.IMREAD_GRAYSCALE)\n",
    "clahe = cv2.createCLAHE()\n",
    "clahe_img = clahe.apply(gray_img)\n",
    "cv2.imshow(\"clahe_image\", clahe_img)\n",
    "cv2.waitKey(0)\n",
    "cv2.imwrite('local_enhance.jpg',clahe_img)"
   ]
  }
 ],
 "metadata": {
  "kernelspec": {
   "display_name": "Python 3",
   "language": "python",
   "name": "python3"
  },
  "language_info": {
   "codemirror_mode": {
    "name": "ipython",
    "version": 3
   },
   "file_extension": ".py",
   "mimetype": "text/x-python",
   "name": "python",
   "nbconvert_exporter": "python",
   "pygments_lexer": "ipython3",
   "version": "3.7.6"
  }
 },
 "nbformat": 4,
 "nbformat_minor": 4
}
