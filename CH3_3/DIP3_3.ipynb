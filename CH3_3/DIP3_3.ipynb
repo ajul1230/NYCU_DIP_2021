{
 "cells": [
  {
   "cell_type": "code",
   "execution_count": 1,
   "metadata": {},
   "outputs": [],
   "source": [
    "import numpy as np\n",
    "import matplotlib.pyplot as plt\n",
    "import cv2"
   ]
  },
  {
   "cell_type": "code",
   "execution_count": 27,
   "metadata": {},
   "outputs": [],
   "source": [
    "img = cv2.imread('checkerboard1024-shaded.tif',)"
   ]
  },
  {
   "cell_type": "code",
   "execution_count": 3,
   "metadata": {},
   "outputs": [],
   "source": [
    "img2 = cv2.imread('N1.bmp',cv2.IMREAD_GRAYSCALE)"
   ]
  },
  {
   "cell_type": "code",
   "execution_count": 25,
   "metadata": {},
   "outputs": [],
   "source": [
    "padding = cv2.copyMakeBorder(img,center,center,center,center,cv2.BORDER_CONSTANT,value=(0,0,0,0))\n"
   ]
  },
  {
   "cell_type": "code",
   "execution_count": 26,
   "metadata": {},
   "outputs": [
    {
     "data": {
      "text/plain": [
       "(1280, 1280, 3)"
      ]
     },
     "execution_count": 26,
     "metadata": {},
     "output_type": "execute_result"
    }
   ],
   "source": [
    "padding.shape"
   ]
  },
  {
   "cell_type": "code",
   "execution_count": 4,
   "metadata": {},
   "outputs": [
    {
     "data": {
      "text/plain": [
       "(480, 640)"
      ]
     },
     "execution_count": 4,
     "metadata": {},
     "output_type": "execute_result"
    }
   ],
   "source": [
    "img2.shape"
   ]
  },
  {
   "cell_type": "code",
   "execution_count": 28,
   "metadata": {},
   "outputs": [
    {
     "data": {
      "text/plain": [
       "(1024, 1024, 3)"
      ]
     },
     "execution_count": 28,
     "metadata": {},
     "output_type": "execute_result"
    }
   ],
   "source": [
    "img.shape"
   ]
  },
  {
   "cell_type": "code",
   "execution_count": 6,
   "metadata": {},
   "outputs": [],
   "source": [
    "kersize = 257\n",
    "var = 64*64\n",
    "center = kersize//2\n",
    "gaussian = np.zeros([kersize,kersize])\n",
    "noise = np.zeros_like(img)\n",
    "padding = cv2.copyMakeBorder(img,center,center,center,center,cv2.BORDER_CONSTANT,value=(0,0,0,0))\n",
    "\n"
   ]
  },
  {
   "cell_type": "code",
   "execution_count": 7,
   "metadata": {},
   "outputs": [],
   "source": [
    "def gaussain_kernel(ker_size,center_value,var_value):\n",
    "    gau = np.zeros([ker_size,ker_size])\n",
    "    for s in range(ker_size):\n",
    "        for t in range(ker_size):\n",
    "            gau[s,t] = np.exp(-(pow(s-center_value,2)+pow(t-center_value,2))/(2*var_value))\n",
    "    k = np.sum(gau)\n",
    "    gau = gau/k\n",
    "    return gau"
   ]
  },
  {
   "cell_type": "code",
   "execution_count": 14,
   "metadata": {},
   "outputs": [],
   "source": [
    "def lpf(img,gau,center_value,noise,img_pad):\n",
    "    result = np.zeros_like(img)\n",
    "    for i in range(center_value,center_value+img.shape[0]):\n",
    "        for j in range(center_value,center_value+img.shape[1]):\n",
    "            noise[i-center_value,j-center_value] = np.sum(img_pad[i-center_value:i+center_value+1,j-center_value:j+center_value+1]*gau)\n",
    "            if noise[i-center_value,j-center_value] != 0:\n",
    "                result[i-center_value,j-center_value] = int(img[i-center_value,j-center_value]/noise[i-center_value,j-center_value])*255\n",
    "            else:\n",
    "                result[i-center_value,j-center_value] = img[i-center_value,j-center_value]\n",
    "    result = cv2.cvtColor(result,cv2.COLOR_GRAY2RGB)\n",
    "    noise = cv2.cvtColor(noise,cv2.COLOR_GRAY2RGB)\n",
    "    return result,noise"
   ]
  },
  {
   "cell_type": "code",
   "execution_count": 15,
   "metadata": {},
   "outputs": [],
   "source": [
    "gau_kernel = gaussain_kernel(kersize,center,var)"
   ]
  },
  {
   "cell_type": "code",
   "execution_count": 16,
   "metadata": {},
   "outputs": [],
   "source": [
    "result_img,result_noise = lpf(img,gau_kernel,center,noise,padding) "
   ]
  },
  {
   "cell_type": "code",
   "execution_count": 18,
   "metadata": {},
   "outputs": [
    {
     "data": {
      "text/plain": [
       "(1024, 1024, 3)"
      ]
     },
     "execution_count": 18,
     "metadata": {},
     "output_type": "execute_result"
    }
   ],
   "source": [
    "result_img.shape"
   ]
  },
  {
   "cell_type": "code",
   "execution_count": 19,
   "metadata": {},
   "outputs": [
    {
     "data": {
      "text/plain": [
       "-1"
      ]
     },
     "execution_count": 19,
     "metadata": {},
     "output_type": "execute_result"
    }
   ],
   "source": [
    "cv2.imshow(\"clahe_image\", result_noise)\n",
    "cv2.waitKey(0)"
   ]
  },
  {
   "cell_type": "code",
   "execution_count": 20,
   "metadata": {},
   "outputs": [
    {
     "data": {
      "text/plain": [
       "True"
      ]
     },
     "execution_count": 20,
     "metadata": {},
     "output_type": "execute_result"
    }
   ],
   "source": [
    "cv2.imwrite('board_result.jpg',result_img)\n",
    "cv2.imwrite('noise_result.jpg',result_noise)"
   ]
  },
  {
   "cell_type": "code",
   "execution_count": 31,
   "metadata": {},
   "outputs": [
    {
     "data": {
      "text/plain": [
       "True"
      ]
     },
     "execution_count": 31,
     "metadata": {},
     "output_type": "execute_result"
    }
   ],
   "source": [
    "import numpy as np\n",
    "import matplotlib.pyplot as plt\n",
    "import cv2\n",
    "img = cv2.imread('checkerboard1024-shaded.tif')\n",
    "\n",
    "def gaussain_kernel(ker_size,center_value,var_value):\n",
    "    gau = np.zeros([ker_size,ker_size])\n",
    "    for s in range(ker_size):\n",
    "        for t in range(ker_size):\n",
    "            gau[s,t] = np.exp(-(pow(s-center_value,2)+pow(t-center_value,2))/(2*var_value))\n",
    "    k = np.sum(gau)\n",
    "    gau = gau/k\n",
    "    return gau\n",
    "\n",
    "def lpf(img,gau,center_value,img_pad):\n",
    "    result = np.zeros_like(img)\n",
    "    noise = np.zeros_like(img)\n",
    "    for k in range(img.shape[2]):\n",
    "        for i in range(center_value,center_value+img.shape[0]):\n",
    "            for j in range(center_value,center_value+img.shape[1]):\n",
    "                noise[i-center_value,j-center_value,k] = \\\n",
    "                np.sum(img_pad[i-center_value:i+center_value+1,j-center_value:j+center_value+1,k]*gau)\n",
    "                if noise[i-center_value,j-center_value,k] != 0:\n",
    "                    result[i-center_value,j-center_value,k] = \\\n",
    "                    int(img[i-center_value,j-center_value,k]/noise[i-center_value,j-center_value,k])*255\n",
    "                else:\n",
    "                    result[i-center_value,j-center_value,k] = img[i-center_value,j-center_value,k]\n",
    "    return result,noise\n",
    "\n",
    "kersize = 257\n",
    "var = 64*64\n",
    "center = kersize//2\n",
    "gaussian = np.zeros([kersize,kersize])\n",
    "padding = cv2.copyMakeBorder(img,center,center,center,center,cv2.BORDER_CONSTANT,value=(0,0,0,0))\n",
    "gau_kernel = gaussain_kernel(kersize,center,var)\n",
    "result_img,result_noise = lpf(img,gau_kernel,center,padding) \n",
    "cv2.imwrite('board_result.jpg',result_img)\n",
    "cv2.imwrite('noise_result.jpg',result_noise)\n"
   ]
  },
  {
   "cell_type": "code",
   "execution_count": 33,
   "metadata": {},
   "outputs": [
    {
     "data": {
      "text/plain": [
       "-1"
      ]
     },
     "execution_count": 33,
     "metadata": {},
     "output_type": "execute_result"
    }
   ],
   "source": [
    "cv2.imshow(\"clahe_image\", result_img)\n",
    "cv2.waitKey(0)"
   ]
  },
  {
   "cell_type": "code",
   "execution_count": 38,
   "metadata": {},
   "outputs": [],
   "source": [
    "backtorgb = cv2.cvtColor(result_img,cv2.COLOR_GRAY2RGB)"
   ]
  },
  {
   "cell_type": "code",
   "execution_count": 62,
   "metadata": {},
   "outputs": [],
   "source": [
    "kersize_n1 = 129\n",
    "var_n1 = 128*128\n",
    "center_n1 = kersize_n1//2\n",
    "gaussian_n1 = np.zeros([kersize_n1,kersize_n1])\n",
    "noise_n1 = np.zeros_like(img2)\n",
    "padding_n1 = cv2.copyMakeBorder(img2,center_n1,center_n1,center_n1,center_n1,cv2.BORDER_REFLECT)\n"
   ]
  },
  {
   "cell_type": "code",
   "execution_count": 63,
   "metadata": {},
   "outputs": [],
   "source": [
    "gau_kernel_n1 = gaussain_kernel(kersize_n1,center_n1,var_n1)"
   ]
  },
  {
   "cell_type": "code",
   "execution_count": 64,
   "metadata": {},
   "outputs": [],
   "source": [
    "result_img_n1,result_noise_n1 = lpf(img2,gau_kernel_n1,center_n1,noise_n1,padding_n1) "
   ]
  },
  {
   "cell_type": "code",
   "execution_count": 67,
   "metadata": {},
   "outputs": [
    {
     "data": {
      "text/plain": [
       "True"
      ]
     },
     "execution_count": 67,
     "metadata": {},
     "output_type": "execute_result"
    }
   ],
   "source": [
    "cv2.imwrite('n1_result.jpg',result_img_n1)\n",
    "cv2.imwrite('n1_noise_result.jpg',result_noise_n1)"
   ]
  },
  {
   "cell_type": "code",
   "execution_count": 52,
   "metadata": {},
   "outputs": [
    {
     "data": {
      "text/plain": [
       "True"
      ]
     },
     "execution_count": 52,
     "metadata": {},
     "output_type": "execute_result"
    }
   ],
   "source": [
    "import numpy as np\n",
    "import matplotlib.pyplot as plt\n",
    "import cv2\n",
    "img = cv2.imread('N1.bmp')\n",
    "\n",
    "def gaussain_kernel(ker_size,center_value,var_value):\n",
    "    gau = np.zeros([ker_size,ker_size])\n",
    "    for s in range(ker_size):\n",
    "        for t in range(ker_size):\n",
    "            gau[s,t] = np.exp(-(pow(s-center_value,2)+pow(t-center_value,2))/(2*var_value))\n",
    "    k = np.sum(gau)\n",
    "    gau = gau/k\n",
    "    return gau\n",
    "\n",
    "def lpf(img,gau,center_value,img_pad):\n",
    "    result = np.zeros_like(img)\n",
    "    noise = np.zeros_like(img)\n",
    "    for k in range(img.shape[2]):\n",
    "        for i in range(center_value,center_value+img.shape[0]):\n",
    "            for j in range(center_value,center_value+img.shape[1]):\n",
    "                noise[i-center_value,j-center_value,k] = \\\n",
    "                np.sum(img_pad[i-center_value:i+center_value+1,j-center_value:j+center_value+1,k]*gau)\n",
    "                if noise[i-center_value,j-center_value,k] != 0:\n",
    "                    result[i-center_value,j-center_value,k] = \\\n",
    "                    int(img[i-center_value,j-center_value,k]/noise[i-center_value,j-center_value,k])*255\n",
    "                else:\n",
    "                    result[i-center_value,j-center_value,k] = img[i-center_value,j-center_value,k]\n",
    "    return result,noise\n",
    "\n",
    "kersize = 129\n",
    "var = 64*64\n",
    "center = kersize//2\n",
    "gaussian = np.zeros([kersize,kersize])\n",
    "padding = cv2.copyMakeBorder(img,center,center,center,center,cv2.BORDER_CONSTANT,value=(0,0,0,0))\n",
    "gau_kernel = gaussain_kernel(kersize,center,var)\n",
    "result_img,result_noise = lpf(img,gau_kernel,center,padding) \n",
    "cv2.imwrite('n1_result.jpg',result_img)\n",
    "cv2.imwrite('n1_noise_result.jpg',result_noise)"
   ]
  },
  {
   "cell_type": "code",
   "execution_count": 53,
   "metadata": {},
   "outputs": [
    {
     "data": {
      "text/plain": [
       "-1"
      ]
     },
     "execution_count": 53,
     "metadata": {},
     "output_type": "execute_result"
    }
   ],
   "source": [
    "cv2.imshow(\"clahe_image\", result_img)\n",
    "cv2.waitKey(0)"
   ]
  },
  {
   "cell_type": "code",
   "execution_count": 43,
   "metadata": {},
   "outputs": [
    {
     "data": {
      "text/plain": [
       "(480, 640, 3)"
      ]
     },
     "execution_count": 43,
     "metadata": {},
     "output_type": "execute_result"
    }
   ],
   "source": [
    "result_img.shape"
   ]
  },
  {
   "cell_type": "code",
   "execution_count": null,
   "metadata": {},
   "outputs": [],
   "source": []
  }
 ],
 "metadata": {
  "kernelspec": {
   "display_name": "Python 3",
   "language": "python",
   "name": "python3"
  },
  "language_info": {
   "codemirror_mode": {
    "name": "ipython",
    "version": 3
   },
   "file_extension": ".py",
   "mimetype": "text/x-python",
   "name": "python",
   "nbconvert_exporter": "python",
   "pygments_lexer": "ipython3",
   "version": "3.7.6"
  }
 },
 "nbformat": 4,
 "nbformat_minor": 4
}
